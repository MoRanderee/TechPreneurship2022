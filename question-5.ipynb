{
 "cells": [
  {
   "cell_type": "code",
   "execution_count": 1,
   "id": "d8e9eae6",
   "metadata": {},
   "outputs": [
    {
     "name": "stdout",
     "output_type": "stream",
     "text": [
      "[0, 1, 2, 3, 4, 5]\n",
      "6\n"
     ]
    }
   ],
   "source": [
    "# Q5\n",
    "\n",
    "arr_1 = [0, 0, 1, 1, 1, 2, 2, 3, 3, 4, 5, 5]\n",
    "arr_2 = [] # array to store final answer\n",
    "\n",
    "for i in arr_1:\n",
    "    \n",
    "    if i in arr_2: # if number in array 1 exists in arrat 2\n",
    "       pass # do nothing\n",
    "    else:\n",
    "        arr_2.append(i) # otherwise append the number to array 2\n",
    "\n",
    "length = len(arr_2) # find size of answer array\n",
    "\n",
    "print(arr_2)\n",
    "print(length)\n"
   ]
  }
 ],
 "metadata": {
  "kernelspec": {
   "display_name": "Python 3",
   "language": "python",
   "name": "python3"
  },
  "language_info": {
   "codemirror_mode": {
    "name": "ipython",
    "version": 3
   },
   "file_extension": ".py",
   "mimetype": "text/x-python",
   "name": "python",
   "nbconvert_exporter": "python",
   "pygments_lexer": "ipython3",
   "version": "3.8.8"
  }
 },
 "nbformat": 4,
 "nbformat_minor": 5
}
