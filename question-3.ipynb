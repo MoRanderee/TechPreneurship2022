{
 "cells": [
  {
   "cell_type": "code",
   "execution_count": 11,
   "id": "a142d5af",
   "metadata": {},
   "outputs": [
    {
     "name": "stdout",
     "output_type": "stream",
     "text": [
      "[[8, 10], [15, 18], [1, 6]]\n"
     ]
    }
   ],
   "source": [
    "# Q3\n",
    "\n",
    "ints = [[1,3], [2,6], [8,10], [15,18]]\n",
    "\n",
    "# double for loop\n",
    "for i in ints: \n",
    "    for j in ints:\n",
    "        \n",
    "        start_temp1 = i[0] # set a start for first interval\n",
    "        end_temp1 = i[1] # set a end for first interval\n",
    "        \n",
    "        start_temp2 = j[0] # set a start for second interval\n",
    "        end_temp2 = j[1] # set a end for second interval\n",
    "        \n",
    "        # if the first interval starts before the second interval and ends within the second interval\n",
    "        if (start_temp1 < start_temp2 and end_temp1 > start_temp2): \n",
    "            k = [start_temp1, end_temp2] # use the start of first interval and end of second interval \n",
    "            ints.remove(i) # remove the smaller intervals\n",
    "            ints.remove(j)\n",
    "            ints.append(k) # append the new bigger interval\n",
    "            \n",
    "print(ints)"
   ]
  }
 ],
 "metadata": {
  "kernelspec": {
   "display_name": "Python 3",
   "language": "python",
   "name": "python3"
  },
  "language_info": {
   "codemirror_mode": {
    "name": "ipython",
    "version": 3
   },
   "file_extension": ".py",
   "mimetype": "text/x-python",
   "name": "python",
   "nbconvert_exporter": "python",
   "pygments_lexer": "ipython3",
   "version": "3.8.8"
  }
 },
 "nbformat": 4,
 "nbformat_minor": 5
}
