{
 "cells": [
  {
   "cell_type": "code",
   "execution_count": 1,
   "id": "55640994",
   "metadata": {},
   "outputs": [
    {
     "name": "stdout",
     "output_type": "stream",
     "text": [
      "3999\n"
     ]
    }
   ],
   "source": [
    "# Q4\n",
    "\n",
    "roman = ['I', 'V', 'X', 'L', 'C', 'D', 'M']\n",
    "ints = [1, 5, 10, 50, 100, 500, 1000]\n",
    "num = 0\n",
    "\n",
    "ex = 'MMMCMXCIX'\n",
    "arr = list(ex) # convert string to list\n",
    "\n",
    "for i in range(len(arr)):\n",
    "    \n",
    "        # 6 special cases\n",
    "\n",
    "        if arr[i-1]=='I' and arr[i]=='V': \n",
    "            num -= 2 # 6 would be added instead of 4, so subtract 2\n",
    "\n",
    "        if arr[i-1]=='I' and arr[i]=='X':\n",
    "            num -= 2 # 11 would be added instead of 9, so subtract 2\n",
    "\n",
    "        if arr[i-1]=='X' and arr[i]=='L':\n",
    "            num -= 20 # 60 would be added instead of 40, so subtract 20\n",
    "\n",
    "        if arr[i-1]=='X' and arr[i]=='C':\n",
    "            num -= 20 # 110 would be added instead of 90, so subtract 20\n",
    "\n",
    "        if arr[i-1]=='C' and arr[i]=='D':\n",
    "            num -= 200 # 600 would be added instead of 400, so subtract 200\n",
    "\n",
    "        if arr[i-1]=='C' and arr[i]=='M':\n",
    "            num -= 200 # 1100 would be added instead of 900, so subtract 200\n",
    "\n",
    "        # 7 normal cases:\n",
    "        \n",
    "        if arr[i]=='I':\n",
    "            num += 1\n",
    "\n",
    "        if arr[i]=='V':\n",
    "            num += 5\n",
    "\n",
    "        if arr[i]=='X':\n",
    "            num += 10\n",
    "\n",
    "        if arr[i]=='L':\n",
    "            num += 50\n",
    "\n",
    "        if arr[i]=='C':\n",
    "            num += 100\n",
    "\n",
    "        if arr[i]=='D':\n",
    "            num += 500\n",
    "\n",
    "        if arr[i]=='M':\n",
    "            num += 1000\n",
    "\n",
    "\n",
    "print(num)\n",
    "        \n"
   ]
  }
 ],
 "metadata": {
  "kernelspec": {
   "display_name": "Python 3",
   "language": "python",
   "name": "python3"
  },
  "language_info": {
   "codemirror_mode": {
    "name": "ipython",
    "version": 3
   },
   "file_extension": ".py",
   "mimetype": "text/x-python",
   "name": "python",
   "nbconvert_exporter": "python",
   "pygments_lexer": "ipython3",
   "version": "3.8.8"
  }
 },
 "nbformat": 4,
 "nbformat_minor": 5
}
