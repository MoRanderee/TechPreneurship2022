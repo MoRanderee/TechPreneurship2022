{
 "cells": [
  {
   "cell_type": "code",
   "execution_count": 1,
   "id": "a9c9446d",
   "metadata": {},
   "outputs": [
    {
     "name": "stdout",
     "output_type": "stream",
     "text": [
      "Even numbers: 1 elements [482]\n",
      "Odd numbers: 3 elements [555, 901, 1771]\n"
     ]
    }
   ],
   "source": [
    "# Q2\n",
    "\n",
    "arr = [555, 901, 482, 1771]\n",
    "evens = []\n",
    "odds = []\n",
    "\n",
    "for i in arr:\n",
    "    \n",
    "    if (i%2 > 0): # if there is a remainder after dividing by 2\n",
    "        odds.append(i) # append number to odds list\n",
    "        \n",
    "    else:\n",
    "        evens.append(i) # otherwise append to evens list\n",
    "        \n",
    "print('Even numbers:', len(evens), 'elements', evens)\n",
    "print('Odd numbers:', len(odds), 'elements', odds)"
   ]
  }
 ],
 "metadata": {
  "kernelspec": {
   "display_name": "Python 3",
   "language": "python",
   "name": "python3"
  },
  "language_info": {
   "codemirror_mode": {
    "name": "ipython",
    "version": 3
   },
   "file_extension": ".py",
   "mimetype": "text/x-python",
   "name": "python",
   "nbconvert_exporter": "python",
   "pygments_lexer": "ipython3",
   "version": "3.8.8"
  }
 },
 "nbformat": 4,
 "nbformat_minor": 5
}
