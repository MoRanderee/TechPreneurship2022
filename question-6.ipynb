{
 "cells": [
  {
   "cell_type": "code",
   "execution_count": 208,
   "id": "1da8169b",
   "metadata": {},
   "outputs": [
    {
     "name": "stdout",
     "output_type": "stream",
     "text": [
      "True\n"
     ]
    }
   ],
   "source": [
    "# Q6\n",
    "\n",
    "nums = [0,1,2,3,5,2]\n",
    "k = 3\n",
    "answer = 'False' # condition is not met by default\n",
    "\n",
    "# double for loop\n",
    "for i in range(len(nums)):\n",
    "    for j in range(len(nums)):\n",
    "        \n",
    "        # if the value at position i and j are the same, if i and j is not the same position and the difference in their positions is less than or equal to 'k'\n",
    "        if nums[i] == nums[j] and abs(j-i) <= k and i!=j: \n",
    "            answer = 'True' # the condition is met\n",
    "            break          \n",
    "    \n",
    "print(answer)   \n",
    "        "
   ]
  }
 ],
 "metadata": {
  "kernelspec": {
   "display_name": "Python 3",
   "language": "python",
   "name": "python3"
  },
  "language_info": {
   "codemirror_mode": {
    "name": "ipython",
    "version": 3
   },
   "file_extension": ".py",
   "mimetype": "text/x-python",
   "name": "python",
   "nbconvert_exporter": "python",
   "pygments_lexer": "ipython3",
   "version": "3.8.8"
  }
 },
 "nbformat": 4,
 "nbformat_minor": 5
}
